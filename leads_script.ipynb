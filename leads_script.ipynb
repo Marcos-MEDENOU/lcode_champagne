{
 "cells": [
  {
   "cell_type": "code",
   "execution_count": 1,
   "id": "2c1e413a",
   "metadata": {},
   "outputs": [
    {
     "data": {
      "text/plain": [
       "'fr_FR.utf-8'"
      ]
     },
     "execution_count": 1,
     "metadata": {},
     "output_type": "execute_result"
    }
   ],
   "source": [
    "#importation des librairies de traitement de donnée\n",
    "import numpy as np #numpy librairy\n",
    "import matplotlib.pyplot as plt \n",
    "import pandas as pd\n",
    " #revenir en langue locale => francais \n",
    "import locale\n",
    "locale.setlocale(locale.LC_ALL, 'fr_FR.utf-8')#@@marcos medenou\n"
   ]
  },
  {
   "cell_type": "code",
   "execution_count": 2,
   "id": "2623ff0b",
   "metadata": {},
   "outputs": [
    {
     "ename": "FileNotFoundError",
     "evalue": "[Errno 2] No such file or directory: 'Leads Fibre de 8H à 20H depuis 1er Janvier 2023.xlsx'",
     "output_type": "error",
     "traceback": [
      "\u001b[1;31m---------------------------------------------------------------------------\u001b[0m",
      "\u001b[1;31mFileNotFoundError\u001b[0m                         Traceback (most recent call last)",
      "Cell \u001b[1;32mIn[2], line 1\u001b[0m\n\u001b[1;32m----> 1\u001b[0m leads \u001b[38;5;241m=\u001b[39m \u001b[43mpd\u001b[49m\u001b[38;5;241;43m.\u001b[39;49m\u001b[43mread_excel\u001b[49m\u001b[43m(\u001b[49m\u001b[38;5;124;43m'\u001b[39;49m\u001b[38;5;124;43mLeads Fibre de 8H à 20H depuis 1er Janvier 2023.xlsx\u001b[39;49m\u001b[38;5;124;43m'\u001b[39;49m\u001b[43m)\u001b[49m\n",
      "File \u001b[1;32m~\\AppData\\Local\\anaconda3\\lib\\site-packages\\pandas\\util\\_decorators.py:211\u001b[0m, in \u001b[0;36mdeprecate_kwarg.<locals>._deprecate_kwarg.<locals>.wrapper\u001b[1;34m(*args, **kwargs)\u001b[0m\n\u001b[0;32m    209\u001b[0m     \u001b[38;5;28;01melse\u001b[39;00m:\n\u001b[0;32m    210\u001b[0m         kwargs[new_arg_name] \u001b[38;5;241m=\u001b[39m new_arg_value\n\u001b[1;32m--> 211\u001b[0m \u001b[38;5;28;01mreturn\u001b[39;00m func(\u001b[38;5;241m*\u001b[39margs, \u001b[38;5;241m*\u001b[39m\u001b[38;5;241m*\u001b[39mkwargs)\n",
      "File \u001b[1;32m~\\AppData\\Local\\anaconda3\\lib\\site-packages\\pandas\\util\\_decorators.py:331\u001b[0m, in \u001b[0;36mdeprecate_nonkeyword_arguments.<locals>.decorate.<locals>.wrapper\u001b[1;34m(*args, **kwargs)\u001b[0m\n\u001b[0;32m    325\u001b[0m \u001b[38;5;28;01mif\u001b[39;00m \u001b[38;5;28mlen\u001b[39m(args) \u001b[38;5;241m>\u001b[39m num_allow_args:\n\u001b[0;32m    326\u001b[0m     warnings\u001b[38;5;241m.\u001b[39mwarn(\n\u001b[0;32m    327\u001b[0m         msg\u001b[38;5;241m.\u001b[39mformat(arguments\u001b[38;5;241m=\u001b[39m_format_argument_list(allow_args)),\n\u001b[0;32m    328\u001b[0m         \u001b[38;5;167;01mFutureWarning\u001b[39;00m,\n\u001b[0;32m    329\u001b[0m         stacklevel\u001b[38;5;241m=\u001b[39mfind_stack_level(),\n\u001b[0;32m    330\u001b[0m     )\n\u001b[1;32m--> 331\u001b[0m \u001b[38;5;28;01mreturn\u001b[39;00m func(\u001b[38;5;241m*\u001b[39margs, \u001b[38;5;241m*\u001b[39m\u001b[38;5;241m*\u001b[39mkwargs)\n",
      "File \u001b[1;32m~\\AppData\\Local\\anaconda3\\lib\\site-packages\\pandas\\io\\excel\\_base.py:482\u001b[0m, in \u001b[0;36mread_excel\u001b[1;34m(io, sheet_name, header, names, index_col, usecols, squeeze, dtype, engine, converters, true_values, false_values, skiprows, nrows, na_values, keep_default_na, na_filter, verbose, parse_dates, date_parser, thousands, decimal, comment, skipfooter, convert_float, mangle_dupe_cols, storage_options)\u001b[0m\n\u001b[0;32m    480\u001b[0m \u001b[38;5;28;01mif\u001b[39;00m \u001b[38;5;129;01mnot\u001b[39;00m \u001b[38;5;28misinstance\u001b[39m(io, ExcelFile):\n\u001b[0;32m    481\u001b[0m     should_close \u001b[38;5;241m=\u001b[39m \u001b[38;5;28;01mTrue\u001b[39;00m\n\u001b[1;32m--> 482\u001b[0m     io \u001b[38;5;241m=\u001b[39m \u001b[43mExcelFile\u001b[49m\u001b[43m(\u001b[49m\u001b[43mio\u001b[49m\u001b[43m,\u001b[49m\u001b[43m \u001b[49m\u001b[43mstorage_options\u001b[49m\u001b[38;5;241;43m=\u001b[39;49m\u001b[43mstorage_options\u001b[49m\u001b[43m,\u001b[49m\u001b[43m \u001b[49m\u001b[43mengine\u001b[49m\u001b[38;5;241;43m=\u001b[39;49m\u001b[43mengine\u001b[49m\u001b[43m)\u001b[49m\n\u001b[0;32m    483\u001b[0m \u001b[38;5;28;01melif\u001b[39;00m engine \u001b[38;5;129;01mand\u001b[39;00m engine \u001b[38;5;241m!=\u001b[39m io\u001b[38;5;241m.\u001b[39mengine:\n\u001b[0;32m    484\u001b[0m     \u001b[38;5;28;01mraise\u001b[39;00m \u001b[38;5;167;01mValueError\u001b[39;00m(\n\u001b[0;32m    485\u001b[0m         \u001b[38;5;124m\"\u001b[39m\u001b[38;5;124mEngine should not be specified when passing \u001b[39m\u001b[38;5;124m\"\u001b[39m\n\u001b[0;32m    486\u001b[0m         \u001b[38;5;124m\"\u001b[39m\u001b[38;5;124man ExcelFile - ExcelFile already has the engine set\u001b[39m\u001b[38;5;124m\"\u001b[39m\n\u001b[0;32m    487\u001b[0m     )\n",
      "File \u001b[1;32m~\\AppData\\Local\\anaconda3\\lib\\site-packages\\pandas\\io\\excel\\_base.py:1652\u001b[0m, in \u001b[0;36mExcelFile.__init__\u001b[1;34m(self, path_or_buffer, engine, storage_options)\u001b[0m\n\u001b[0;32m   1650\u001b[0m     ext \u001b[38;5;241m=\u001b[39m \u001b[38;5;124m\"\u001b[39m\u001b[38;5;124mxls\u001b[39m\u001b[38;5;124m\"\u001b[39m\n\u001b[0;32m   1651\u001b[0m \u001b[38;5;28;01melse\u001b[39;00m:\n\u001b[1;32m-> 1652\u001b[0m     ext \u001b[38;5;241m=\u001b[39m \u001b[43minspect_excel_format\u001b[49m\u001b[43m(\u001b[49m\n\u001b[0;32m   1653\u001b[0m \u001b[43m        \u001b[49m\u001b[43mcontent_or_path\u001b[49m\u001b[38;5;241;43m=\u001b[39;49m\u001b[43mpath_or_buffer\u001b[49m\u001b[43m,\u001b[49m\u001b[43m \u001b[49m\u001b[43mstorage_options\u001b[49m\u001b[38;5;241;43m=\u001b[39;49m\u001b[43mstorage_options\u001b[49m\n\u001b[0;32m   1654\u001b[0m \u001b[43m    \u001b[49m\u001b[43m)\u001b[49m\n\u001b[0;32m   1655\u001b[0m     \u001b[38;5;28;01mif\u001b[39;00m ext \u001b[38;5;129;01mis\u001b[39;00m \u001b[38;5;28;01mNone\u001b[39;00m:\n\u001b[0;32m   1656\u001b[0m         \u001b[38;5;28;01mraise\u001b[39;00m \u001b[38;5;167;01mValueError\u001b[39;00m(\n\u001b[0;32m   1657\u001b[0m             \u001b[38;5;124m\"\u001b[39m\u001b[38;5;124mExcel file format cannot be determined, you must specify \u001b[39m\u001b[38;5;124m\"\u001b[39m\n\u001b[0;32m   1658\u001b[0m             \u001b[38;5;124m\"\u001b[39m\u001b[38;5;124man engine manually.\u001b[39m\u001b[38;5;124m\"\u001b[39m\n\u001b[0;32m   1659\u001b[0m         )\n",
      "File \u001b[1;32m~\\AppData\\Local\\anaconda3\\lib\\site-packages\\pandas\\io\\excel\\_base.py:1525\u001b[0m, in \u001b[0;36minspect_excel_format\u001b[1;34m(content_or_path, storage_options)\u001b[0m\n\u001b[0;32m   1522\u001b[0m \u001b[38;5;28;01mif\u001b[39;00m \u001b[38;5;28misinstance\u001b[39m(content_or_path, \u001b[38;5;28mbytes\u001b[39m):\n\u001b[0;32m   1523\u001b[0m     content_or_path \u001b[38;5;241m=\u001b[39m BytesIO(content_or_path)\n\u001b[1;32m-> 1525\u001b[0m \u001b[38;5;28;01mwith\u001b[39;00m \u001b[43mget_handle\u001b[49m\u001b[43m(\u001b[49m\n\u001b[0;32m   1526\u001b[0m \u001b[43m    \u001b[49m\u001b[43mcontent_or_path\u001b[49m\u001b[43m,\u001b[49m\u001b[43m \u001b[49m\u001b[38;5;124;43m\"\u001b[39;49m\u001b[38;5;124;43mrb\u001b[39;49m\u001b[38;5;124;43m\"\u001b[39;49m\u001b[43m,\u001b[49m\u001b[43m \u001b[49m\u001b[43mstorage_options\u001b[49m\u001b[38;5;241;43m=\u001b[39;49m\u001b[43mstorage_options\u001b[49m\u001b[43m,\u001b[49m\u001b[43m \u001b[49m\u001b[43mis_text\u001b[49m\u001b[38;5;241;43m=\u001b[39;49m\u001b[38;5;28;43;01mFalse\u001b[39;49;00m\n\u001b[0;32m   1527\u001b[0m \u001b[43m\u001b[49m\u001b[43m)\u001b[49m \u001b[38;5;28;01mas\u001b[39;00m handle:\n\u001b[0;32m   1528\u001b[0m     stream \u001b[38;5;241m=\u001b[39m handle\u001b[38;5;241m.\u001b[39mhandle\n\u001b[0;32m   1529\u001b[0m     stream\u001b[38;5;241m.\u001b[39mseek(\u001b[38;5;241m0\u001b[39m)\n",
      "File \u001b[1;32m~\\AppData\\Local\\anaconda3\\lib\\site-packages\\pandas\\io\\common.py:865\u001b[0m, in \u001b[0;36mget_handle\u001b[1;34m(path_or_buf, mode, encoding, compression, memory_map, is_text, errors, storage_options)\u001b[0m\n\u001b[0;32m    856\u001b[0m         handle \u001b[38;5;241m=\u001b[39m \u001b[38;5;28mopen\u001b[39m(\n\u001b[0;32m    857\u001b[0m             handle,\n\u001b[0;32m    858\u001b[0m             ioargs\u001b[38;5;241m.\u001b[39mmode,\n\u001b[1;32m   (...)\u001b[0m\n\u001b[0;32m    861\u001b[0m             newline\u001b[38;5;241m=\u001b[39m\u001b[38;5;124m\"\u001b[39m\u001b[38;5;124m\"\u001b[39m,\n\u001b[0;32m    862\u001b[0m         )\n\u001b[0;32m    863\u001b[0m     \u001b[38;5;28;01melse\u001b[39;00m:\n\u001b[0;32m    864\u001b[0m         \u001b[38;5;66;03m# Binary mode\u001b[39;00m\n\u001b[1;32m--> 865\u001b[0m         handle \u001b[38;5;241m=\u001b[39m \u001b[38;5;28;43mopen\u001b[39;49m\u001b[43m(\u001b[49m\u001b[43mhandle\u001b[49m\u001b[43m,\u001b[49m\u001b[43m \u001b[49m\u001b[43mioargs\u001b[49m\u001b[38;5;241;43m.\u001b[39;49m\u001b[43mmode\u001b[49m\u001b[43m)\u001b[49m\n\u001b[0;32m    866\u001b[0m     handles\u001b[38;5;241m.\u001b[39mappend(handle)\n\u001b[0;32m    868\u001b[0m \u001b[38;5;66;03m# Convert BytesIO or file objects passed with an encoding\u001b[39;00m\n",
      "\u001b[1;31mFileNotFoundError\u001b[0m: [Errno 2] No such file or directory: 'Leads Fibre de 8H à 20H depuis 1er Janvier 2023.xlsx'"
     ]
    }
   ],
   "source": [
    "leads = pd.read_excel('Leads Fibre de 8H à 20H depuis 1er Janvier 2023.xlsx') #ouverture du fichier"
   ]
  },
  {
   "cell_type": "code",
   "execution_count": null,
   "id": "c6f809f3",
   "metadata": {},
   "outputs": [],
   "source": [
    "leads #affichage du contenu du fichier"
   ]
  },
  {
   "cell_type": "code",
   "execution_count": null,
   "id": "f6824494",
   "metadata": {},
   "outputs": [],
   "source": [
    "leads = leads.reindex(columns=[*leads.columns, 'Jour de la semaine']) # créer une colonne pour le jour de la semaine"
   ]
  },
  {
   "cell_type": "code",
   "execution_count": null,
   "id": "a5d0a35d",
   "metadata": {
    "scrolled": true
   },
   "outputs": [],
   "source": [
    "leads"
   ]
  },
  {
   "cell_type": "code",
   "execution_count": null,
   "id": "61391adb",
   "metadata": {},
   "outputs": [],
   "source": [
    "leads['Date d\\'integration'] = pd.to_datetime(leads['Date d\\'integration'])"
   ]
  },
  {
   "cell_type": "code",
   "execution_count": null,
   "id": "f9a2ba18",
   "metadata": {},
   "outputs": [],
   "source": [
    "leads['Jour de la semaine'] = leads['Date d\\'integration'].dt.day_name()"
   ]
  },
  {
   "cell_type": "code",
   "execution_count": null,
   "id": "207082e8",
   "metadata": {},
   "outputs": [],
   "source": [
    "leads"
   ]
  },
  {
   "cell_type": "code",
   "execution_count": null,
   "id": "578b106a",
   "metadata": {},
   "outputs": [],
   "source": [
    "leads['Date d\\'integration'] = pd.to_datetime(leads['Date d\\'integration'])"
   ]
  },
  {
   "cell_type": "code",
   "execution_count": null,
   "id": "3cc5a078",
   "metadata": {},
   "outputs": [],
   "source": [
    "leads"
   ]
  },
  {
   "cell_type": "code",
   "execution_count": null,
   "id": "006cbc6b",
   "metadata": {},
   "outputs": [],
   "source": [
    "groupe_data = leads.groupby(pd.Grouper(key='Date d\\'integration', freq='30min'))"
   ]
  },
  {
   "cell_type": "code",
   "execution_count": null,
   "id": "207d5ef3",
   "metadata": {},
   "outputs": [],
   "source": [
    "def print_group(group):\n",
    "    print(group)"
   ]
  },
  {
   "cell_type": "code",
   "execution_count": null,
   "id": "4ba49887",
   "metadata": {},
   "outputs": [],
   "source": [
    "leads[['date', 'heure']] = leads['Date d\\'integration'].astype(str).str.split(' ', expand=True)"
   ]
  },
  {
   "cell_type": "code",
   "execution_count": null,
   "id": "a521e279",
   "metadata": {},
   "outputs": [],
   "source": [
    "leads"
   ]
  },
  {
   "cell_type": "code",
   "execution_count": null,
   "id": "7474b716",
   "metadata": {},
   "outputs": [],
   "source": [
    "leads= leads.drop(['Date d\\'integration'], axis=1)"
   ]
  },
  {
   "cell_type": "code",
   "execution_count": null,
   "id": "39b0ab8b",
   "metadata": {},
   "outputs": [],
   "source": [
    "leads"
   ]
  },
  {
   "cell_type": "code",
   "execution_count": null,
   "id": "9d47bbcf",
   "metadata": {},
   "outputs": [],
   "source": [
    "laads = leads[['date','CodePostal']]"
   ]
  },
  {
   "cell_type": "code",
   "execution_count": null,
   "id": "3828b84f",
   "metadata": {},
   "outputs": [],
   "source": [
    "leads"
   ]
  },
  {
   "cell_type": "code",
   "execution_count": null,
   "id": "9d43ca30",
   "metadata": {},
   "outputs": [],
   "source": [
    "# Récupérer le nom des colonnes dans le DataFrame\n",
    "column_name = leads.columns.tolist()"
   ]
  },
  {
   "cell_type": "code",
   "execution_count": null,
   "id": "dafa4f39",
   "metadata": {},
   "outputs": [],
   "source": [
    "column_name"
   ]
  },
  {
   "cell_type": "code",
   "execution_count": null,
   "id": "58277fef",
   "metadata": {},
   "outputs": [],
   "source": [
    "# Déplacer la colonne 'colonne1' à la place de la colonne 'colonne2'\n",
    "new_column_order = ['date', 'heure', 'CodePostal', 'Jour de la semaine']"
   ]
  },
  {
   "cell_type": "code",
   "execution_count": null,
   "id": "347d96bc",
   "metadata": {},
   "outputs": [],
   "source": [
    "# Réorganiser les colonnes dans le DataFrame en utilisant la méthode reindex()\n",
    "leads = leads.reindex(columns=new_column_order)"
   ]
  },
  {
   "cell_type": "code",
   "execution_count": null,
   "id": "d7c73b81",
   "metadata": {},
   "outputs": [],
   "source": [
    "leads"
   ]
  },
  {
   "cell_type": "code",
   "execution_count": null,
   "id": "b039f7e8",
   "metadata": {},
   "outputs": [],
   "source": [
    "# Convertir la colonne 'heure' en heure en utilisant la méthode to_datetime()\n",
    "leads['heure'] = pd.to_datetime(leads['heure'], format='%H:%M:%S').dt.time"
   ]
  },
  {
   "cell_type": "code",
   "execution_count": null,
   "id": "f5d03986",
   "metadata": {},
   "outputs": [],
   "source": [
    "leads"
   ]
  },
  {
   "cell_type": "code",
   "execution_count": null,
   "id": "b90cbb7d",
   "metadata": {},
   "outputs": [],
   "source": [
    "# Définir la colonne d'heure comme index du DataFrame\n",
    "#df = df.set_index('date') \n",
    "leads = leads.set_index('heure')"
   ]
  },
  {
   "cell_type": "code",
   "execution_count": null,
   "id": "01b77868",
   "metadata": {},
   "outputs": [],
   "source": [
    "leads"
   ]
  },
  {
   "cell_type": "code",
   "execution_count": null,
   "id": "88f1580d",
   "metadata": {},
   "outputs": [],
   "source": [
    "leads = leads.sort_values('date')"
   ]
  },
  {
   "cell_type": "code",
   "execution_count": null,
   "id": "b675de3a",
   "metadata": {},
   "outputs": [],
   "source": [
    "leads"
   ]
  },
  {
   "cell_type": "code",
   "execution_count": null,
   "id": "713b9581",
   "metadata": {},
   "outputs": [],
   "source": [
    "leads=leads.reset_index()"
   ]
  },
  {
   "cell_type": "code",
   "execution_count": null,
   "id": "0e5b026d",
   "metadata": {},
   "outputs": [],
   "source": [
    "leads"
   ]
  },
  {
   "cell_type": "code",
   "execution_count": null,
   "id": "496227f6",
   "metadata": {},
   "outputs": [],
   "source": [
    "leads['heure'] = pd.to_datetime(leads['heure'], format='%H:%M:%S').dt.time"
   ]
  },
  {
   "cell_type": "code",
   "execution_count": null,
   "id": "94c945ab",
   "metadata": {},
   "outputs": [],
   "source": [
    "leads"
   ]
  },
  {
   "cell_type": "code",
   "execution_count": 436,
   "id": "c7cbc193",
   "metadata": {},
   "outputs": [],
   "source": [
    "# Convertir la colonne d'heure en objet datetime\n",
    "leads['heure'] = pd.to_datetime(leads['heure'], format='%H:%M:%S').dt.time"
   ]
  },
  {
   "cell_type": "code",
   "execution_count": 437,
   "id": "fd43a32a",
   "metadata": {},
   "outputs": [
    {
     "data": {
      "text/html": [
       "<div>\n",
       "<style scoped>\n",
       "    .dataframe tbody tr th:only-of-type {\n",
       "        vertical-align: middle;\n",
       "    }\n",
       "\n",
       "    .dataframe tbody tr th {\n",
       "        vertical-align: top;\n",
       "    }\n",
       "\n",
       "    .dataframe thead th {\n",
       "        text-align: right;\n",
       "    }\n",
       "</style>\n",
       "<table border=\"1\" class=\"dataframe\">\n",
       "  <thead>\n",
       "    <tr style=\"text-align: right;\">\n",
       "      <th></th>\n",
       "      <th>date</th>\n",
       "      <th>heure</th>\n",
       "      <th>CodePostal</th>\n",
       "      <th>Jour de la semaine</th>\n",
       "    </tr>\n",
       "  </thead>\n",
       "  <tbody>\n",
       "    <tr>\n",
       "      <th>0</th>\n",
       "      <td>2023-03-31</td>\n",
       "      <td>19:55:00</td>\n",
       "      <td>16410</td>\n",
       "      <td>Friday</td>\n",
       "    </tr>\n",
       "    <tr>\n",
       "      <th>1</th>\n",
       "      <td>2023-03-31</td>\n",
       "      <td>19:34:00</td>\n",
       "      <td>67300</td>\n",
       "      <td>Friday</td>\n",
       "    </tr>\n",
       "    <tr>\n",
       "      <th>2</th>\n",
       "      <td>2023-03-31</td>\n",
       "      <td>19:30:00</td>\n",
       "      <td>38780</td>\n",
       "      <td>Friday</td>\n",
       "    </tr>\n",
       "    <tr>\n",
       "      <th>3</th>\n",
       "      <td>2023-03-31</td>\n",
       "      <td>19:26:00</td>\n",
       "      <td>68170</td>\n",
       "      <td>Friday</td>\n",
       "    </tr>\n",
       "    <tr>\n",
       "      <th>4</th>\n",
       "      <td>2023-03-31</td>\n",
       "      <td>19:25:00</td>\n",
       "      <td>44190</td>\n",
       "      <td>Friday</td>\n",
       "    </tr>\n",
       "    <tr>\n",
       "      <th>...</th>\n",
       "      <td>...</td>\n",
       "      <td>...</td>\n",
       "      <td>...</td>\n",
       "      <td>...</td>\n",
       "    </tr>\n",
       "    <tr>\n",
       "      <th>59806</th>\n",
       "      <td>2023-01-01</td>\n",
       "      <td>09:46:00</td>\n",
       "      <td>77290</td>\n",
       "      <td>Sunday</td>\n",
       "    </tr>\n",
       "    <tr>\n",
       "      <th>59807</th>\n",
       "      <td>2023-01-01</td>\n",
       "      <td>09:41:00</td>\n",
       "      <td>59273</td>\n",
       "      <td>Sunday</td>\n",
       "    </tr>\n",
       "    <tr>\n",
       "      <th>59808</th>\n",
       "      <td>2023-01-01</td>\n",
       "      <td>09:38:00</td>\n",
       "      <td>NaN</td>\n",
       "      <td>Sunday</td>\n",
       "    </tr>\n",
       "    <tr>\n",
       "      <th>59809</th>\n",
       "      <td>2023-01-01</td>\n",
       "      <td>09:38:00</td>\n",
       "      <td>94400</td>\n",
       "      <td>Sunday</td>\n",
       "    </tr>\n",
       "    <tr>\n",
       "      <th>59810</th>\n",
       "      <td>2023-01-01</td>\n",
       "      <td>09:35:00</td>\n",
       "      <td>27160</td>\n",
       "      <td>Sunday</td>\n",
       "    </tr>\n",
       "  </tbody>\n",
       "</table>\n",
       "<p>59811 rows × 4 columns</p>\n",
       "</div>"
      ],
      "text/plain": [
       "             date     heure CodePostal Jour de la semaine\n",
       "0      2023-03-31  19:55:00      16410             Friday\n",
       "1      2023-03-31  19:34:00      67300             Friday\n",
       "2      2023-03-31  19:30:00      38780             Friday\n",
       "3      2023-03-31  19:26:00      68170             Friday\n",
       "4      2023-03-31  19:25:00      44190             Friday\n",
       "...           ...       ...        ...                ...\n",
       "59806  2023-01-01  09:46:00      77290             Sunday\n",
       "59807  2023-01-01  09:41:00      59273             Sunday\n",
       "59808  2023-01-01  09:38:00        NaN             Sunday\n",
       "59809  2023-01-01  09:38:00      94400             Sunday\n",
       "59810  2023-01-01  09:35:00      27160             Sunday\n",
       "\n",
       "[59811 rows x 4 columns]"
      ]
     },
     "execution_count": 437,
     "metadata": {},
     "output_type": "execute_result"
    }
   ],
   "source": [
    "leads"
   ]
  },
  {
   "cell_type": "code",
   "execution_count": 438,
   "id": "94cec1be",
   "metadata": {},
   "outputs": [
    {
     "name": "stdout",
     "output_type": "stream",
     "text": [
      "object\n"
     ]
    }
   ],
   "source": [
    "print(leads.dtypes['heure'])"
   ]
  },
  {
   "cell_type": "code",
   "execution_count": 482,
   "id": "f7326b6d",
   "metadata": {},
   "outputs": [
    {
     "data": {
      "text/html": [
       "<div>\n",
       "<style scoped>\n",
       "    .dataframe tbody tr th:only-of-type {\n",
       "        vertical-align: middle;\n",
       "    }\n",
       "\n",
       "    .dataframe tbody tr th {\n",
       "        vertical-align: top;\n",
       "    }\n",
       "\n",
       "    .dataframe thead th {\n",
       "        text-align: right;\n",
       "    }\n",
       "</style>\n",
       "<table border=\"1\" class=\"dataframe\">\n",
       "  <thead>\n",
       "    <tr style=\"text-align: right;\">\n",
       "      <th></th>\n",
       "      <th>heure</th>\n",
       "      <th>date</th>\n",
       "      <th>CodePostal</th>\n",
       "      <th>Jour de la semaine</th>\n",
       "    </tr>\n",
       "  </thead>\n",
       "  <tbody>\n",
       "    <tr>\n",
       "      <th>0</th>\n",
       "      <td>09:35:00</td>\n",
       "      <td>2023-01-01</td>\n",
       "      <td>27160</td>\n",
       "      <td>Sunday</td>\n",
       "    </tr>\n",
       "    <tr>\n",
       "      <th>1</th>\n",
       "      <td>12:16:00</td>\n",
       "      <td>2023-01-01</td>\n",
       "      <td>NaN</td>\n",
       "      <td>Sunday</td>\n",
       "    </tr>\n",
       "    <tr>\n",
       "      <th>2</th>\n",
       "      <td>12:17:00</td>\n",
       "      <td>2023-01-01</td>\n",
       "      <td>NaN</td>\n",
       "      <td>Sunday</td>\n",
       "    </tr>\n",
       "    <tr>\n",
       "      <th>3</th>\n",
       "      <td>12:18:00</td>\n",
       "      <td>2023-01-01</td>\n",
       "      <td>26290</td>\n",
       "      <td>Sunday</td>\n",
       "    </tr>\n",
       "    <tr>\n",
       "      <th>4</th>\n",
       "      <td>12:19:00</td>\n",
       "      <td>2023-01-01</td>\n",
       "      <td>NaN</td>\n",
       "      <td>Sunday</td>\n",
       "    </tr>\n",
       "    <tr>\n",
       "      <th>...</th>\n",
       "      <td>...</td>\n",
       "      <td>...</td>\n",
       "      <td>...</td>\n",
       "      <td>...</td>\n",
       "    </tr>\n",
       "    <tr>\n",
       "      <th>59806</th>\n",
       "      <td>12:31:00</td>\n",
       "      <td>2023-04-04</td>\n",
       "      <td>37500</td>\n",
       "      <td>Tuesday</td>\n",
       "    </tr>\n",
       "    <tr>\n",
       "      <th>59807</th>\n",
       "      <td>12:32:00</td>\n",
       "      <td>2023-04-04</td>\n",
       "      <td>38210</td>\n",
       "      <td>Tuesday</td>\n",
       "    </tr>\n",
       "    <tr>\n",
       "      <th>59808</th>\n",
       "      <td>12:34:00</td>\n",
       "      <td>2023-04-04</td>\n",
       "      <td>NaN</td>\n",
       "      <td>Tuesday</td>\n",
       "    </tr>\n",
       "    <tr>\n",
       "      <th>59809</th>\n",
       "      <td>12:22:00</td>\n",
       "      <td>2023-04-04</td>\n",
       "      <td>34110</td>\n",
       "      <td>Tuesday</td>\n",
       "    </tr>\n",
       "    <tr>\n",
       "      <th>59810</th>\n",
       "      <td>11:51:00</td>\n",
       "      <td>2023-04-04</td>\n",
       "      <td>80000</td>\n",
       "      <td>Tuesday</td>\n",
       "    </tr>\n",
       "  </tbody>\n",
       "</table>\n",
       "<p>59811 rows × 4 columns</p>\n",
       "</div>"
      ],
      "text/plain": [
       "          heure        date CodePostal Jour de la semaine\n",
       "0      09:35:00  2023-01-01      27160             Sunday\n",
       "1      12:16:00  2023-01-01        NaN             Sunday\n",
       "2      12:17:00  2023-01-01        NaN             Sunday\n",
       "3      12:18:00  2023-01-01      26290             Sunday\n",
       "4      12:19:00  2023-01-01        NaN             Sunday\n",
       "...         ...         ...        ...                ...\n",
       "59806  12:31:00  2023-04-04      37500            Tuesday\n",
       "59807  12:32:00  2023-04-04      38210            Tuesday\n",
       "59808  12:34:00  2023-04-04        NaN            Tuesday\n",
       "59809  12:22:00  2023-04-04      34110            Tuesday\n",
       "59810  11:51:00  2023-04-04      80000            Tuesday\n",
       "\n",
       "[59811 rows x 4 columns]"
      ]
     },
     "execution_count": 482,
     "metadata": {},
     "output_type": "execute_result"
    }
   ],
   "source": [
    "leads"
   ]
  },
  {
   "cell_type": "code",
   "execution_count": null,
   "id": "9e1a20c0",
   "metadata": {},
   "outputs": [],
   "source": [
    "# Resample by 30 minutes and count number of rows in each group\n",
    "df_30min = fibres.resample('30T').count()"
   ]
  }
 ],
 "metadata": {
  "kernelspec": {
   "display_name": "Python 3 (ipykernel)",
   "language": "python",
   "name": "python3"
  },
  "language_info": {
   "codemirror_mode": {
    "name": "ipython",
    "version": 3
   },
   "file_extension": ".py",
   "mimetype": "text/x-python",
   "name": "python",
   "nbconvert_exporter": "python",
   "pygments_lexer": "ipython3",
   "version": "3.10.9"
  }
 },
 "nbformat": 4,
 "nbformat_minor": 5
}
