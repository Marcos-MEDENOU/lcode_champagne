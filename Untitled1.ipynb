{
 "cells": [
  {
   "cell_type": "code",
   "execution_count": 52,
   "id": "01efea71",
   "metadata": {},
   "outputs": [],
   "source": [
    "import warnings\n",
    "warnings.simplefilter(action='ignore', category=FutureWarning)\n",
    "\n",
    "import pandas as pd"
   ]
  },
  {
   "cell_type": "code",
   "execution_count": 53,
   "id": "7ed4cad3",
   "metadata": {},
   "outputs": [],
   "source": [
    "df = pd.read_excel('Lead_Janvier_2023.xlsx') #ouverture du fichier excel #ouverture du fichier"
   ]
  },
  {
   "cell_type": "code",
   "execution_count": 54,
   "id": "eec42f5a",
   "metadata": {},
   "outputs": [
    {
     "data": {
      "text/html": [
       "<div>\n",
       "<style scoped>\n",
       "    .dataframe tbody tr th:only-of-type {\n",
       "        vertical-align: middle;\n",
       "    }\n",
       "\n",
       "    .dataframe tbody tr th {\n",
       "        vertical-align: top;\n",
       "    }\n",
       "\n",
       "    .dataframe thead th {\n",
       "        text-align: right;\n",
       "    }\n",
       "</style>\n",
       "<table border=\"1\" class=\"dataframe\">\n",
       "  <thead>\n",
       "    <tr style=\"text-align: right;\">\n",
       "      <th></th>\n",
       "      <th>date</th>\n",
       "      <th>heure</th>\n",
       "      <th>CodePostal</th>\n",
       "      <th>Jour</th>\n",
       "    </tr>\n",
       "  </thead>\n",
       "  <tbody>\n",
       "    <tr>\n",
       "      <th>0</th>\n",
       "      <td>2023-01-01</td>\n",
       "      <td>19:51:00</td>\n",
       "      <td>NaN</td>\n",
       "      <td>Sunday</td>\n",
       "    </tr>\n",
       "    <tr>\n",
       "      <th>1</th>\n",
       "      <td>2023-01-01</td>\n",
       "      <td>19:49:00</td>\n",
       "      <td>NaN</td>\n",
       "      <td>Sunday</td>\n",
       "    </tr>\n",
       "    <tr>\n",
       "      <th>2</th>\n",
       "      <td>2023-01-01</td>\n",
       "      <td>19:49:00</td>\n",
       "      <td>NaN</td>\n",
       "      <td>Sunday</td>\n",
       "    </tr>\n",
       "    <tr>\n",
       "      <th>3</th>\n",
       "      <td>2023-01-01</td>\n",
       "      <td>19:44:00</td>\n",
       "      <td>NaN</td>\n",
       "      <td>Sunday</td>\n",
       "    </tr>\n",
       "    <tr>\n",
       "      <th>4</th>\n",
       "      <td>2023-01-01</td>\n",
       "      <td>19:42:00</td>\n",
       "      <td>NaN</td>\n",
       "      <td>Sunday</td>\n",
       "    </tr>\n",
       "    <tr>\n",
       "      <th>...</th>\n",
       "      <td>...</td>\n",
       "      <td>...</td>\n",
       "      <td>...</td>\n",
       "      <td>...</td>\n",
       "    </tr>\n",
       "    <tr>\n",
       "      <th>19252</th>\n",
       "      <td>2023-01-31</td>\n",
       "      <td>09:04:00</td>\n",
       "      <td>91600</td>\n",
       "      <td>Tuesday</td>\n",
       "    </tr>\n",
       "    <tr>\n",
       "      <th>19253</th>\n",
       "      <td>2023-01-31</td>\n",
       "      <td>09:02:00</td>\n",
       "      <td>37210</td>\n",
       "      <td>Tuesday</td>\n",
       "    </tr>\n",
       "    <tr>\n",
       "      <th>19254</th>\n",
       "      <td>2023-01-31</td>\n",
       "      <td>08:48:00</td>\n",
       "      <td>27290</td>\n",
       "      <td>Tuesday</td>\n",
       "    </tr>\n",
       "    <tr>\n",
       "      <th>19255</th>\n",
       "      <td>2023-01-31</td>\n",
       "      <td>08:42:00</td>\n",
       "      <td>62290</td>\n",
       "      <td>Tuesday</td>\n",
       "    </tr>\n",
       "    <tr>\n",
       "      <th>19256</th>\n",
       "      <td>2023-01-31</td>\n",
       "      <td>08:35:00</td>\n",
       "      <td>34140</td>\n",
       "      <td>Tuesday</td>\n",
       "    </tr>\n",
       "  </tbody>\n",
       "</table>\n",
       "<p>19257 rows × 4 columns</p>\n",
       "</div>"
      ],
      "text/plain": [
       "             date     heure CodePostal     Jour\n",
       "0      2023-01-01  19:51:00        NaN   Sunday\n",
       "1      2023-01-01  19:49:00        NaN   Sunday\n",
       "2      2023-01-01  19:49:00        NaN   Sunday\n",
       "3      2023-01-01  19:44:00        NaN   Sunday\n",
       "4      2023-01-01  19:42:00        NaN   Sunday\n",
       "...           ...       ...        ...      ...\n",
       "19252  2023-01-31  09:04:00      91600  Tuesday\n",
       "19253  2023-01-31  09:02:00      37210  Tuesday\n",
       "19254  2023-01-31  08:48:00      27290  Tuesday\n",
       "19255  2023-01-31  08:42:00      62290  Tuesday\n",
       "19256  2023-01-31  08:35:00      34140  Tuesday\n",
       "\n",
       "[19257 rows x 4 columns]"
      ]
     },
     "execution_count": 54,
     "metadata": {},
     "output_type": "execute_result"
    }
   ],
   "source": [
    "df"
   ]
  },
  {
   "cell_type": "code",
   "execution_count": 59,
   "id": "aa1bd01e",
   "metadata": {},
   "outputs": [
    {
     "name": "stdout",
     "output_type": "stream",
     "text": [
      "                          date CodePostal    Jour\n",
      "heure                                            \n",
      "1900-01-01 19:59:00 2023-01-02        NaN  Monday\n",
      "1900-01-01 19:59:00 2023-01-02        NaN  Monday\n",
      "1900-01-01 19:59:00 2023-01-02        NaN  Monday\n",
      "1900-01-01 19:59:00 2023-01-02        NaN  Monday\n",
      "1900-01-01 19:58:00 2023-01-02        NaN  Monday\n",
      "...                        ...        ...     ...\n",
      "1900-01-01 19:36:00 2023-01-02      82340  Monday\n",
      "1900-01-01 19:36:00 2023-01-02      82340  Monday\n",
      "1900-01-01 19:35:00 2023-01-02      85150  Monday\n",
      "1900-01-01 19:33:00 2023-01-02       6300  Monday\n",
      "1900-01-01 19:30:00 2023-01-02      31410  Monday\n",
      "\n",
      "[176 rows x 3 columns]\n"
     ]
    }
   ],
   "source": [
    "# Convertir la colonne date en format datetime\n",
    "df['date'] = pd.to_datetime(df['date'])\n",
    "\n",
    "# Définir les dates de début et de fin de la plage de données à extraire\n",
    "date_debut = pd.to_datetime('2023-01-02')\n",
    "date_fin = pd.to_datetime('2023-01-02')\n",
    "\n",
    "# Utiliser .loc[] pour sélectionner les lignes entre les deux dates\n",
    "plage_de_donnees = df.loc[(df['date'] >= date_debut) & (df['date'] <= date_fin)]\n",
    "\n",
    "# Afficher la plage de données sélectionnée\n",
    "print(plage_de_donnees)"
   ]
  },
  {
   "cell_type": "code",
   "execution_count": 57,
   "id": "19d0121c",
   "metadata": {},
   "outputs": [
    {
     "name": "stdout",
     "output_type": "stream",
     "text": [
      "Index(['date', 'CodePostal', 'Jour'], dtype='object')\n"
     ]
    }
   ],
   "source": [
    "print(df.columns)"
   ]
  },
  {
   "cell_type": "code",
   "execution_count": null,
   "id": "5969f0a4",
   "metadata": {},
   "outputs": [],
   "source": []
  },
  {
   "cell_type": "code",
   "execution_count": null,
   "id": "921406f3",
   "metadata": {},
   "outputs": [],
   "source": []
  }
 ],
 "metadata": {
  "kernelspec": {
   "display_name": "Python 3 (ipykernel)",
   "language": "python",
   "name": "python3"
  },
  "language_info": {
   "codemirror_mode": {
    "name": "ipython",
    "version": 3
   },
   "file_extension": ".py",
   "mimetype": "text/x-python",
   "name": "python",
   "nbconvert_exporter": "python",
   "pygments_lexer": "ipython3",
   "version": "3.10.9"
  }
 },
 "nbformat": 4,
 "nbformat_minor": 5
}
